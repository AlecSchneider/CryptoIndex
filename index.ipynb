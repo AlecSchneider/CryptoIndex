{
 "cells": [
  {
   "cell_type": "code",
   "execution_count": 1,
   "metadata": {},
   "outputs": [],
   "source": [
    "%load_ext zipline"
   ]
  },
  {
   "cell_type": "code",
   "execution_count": 97,
   "metadata": {
    "scrolled": true
   },
   "outputs": [
    {
     "name": "stdout",
     "output_type": "stream",
     "text": [
      "<class 'pandas.core.panel.Panel'>\n",
      "Dimensions: 891 (items) x 1831 (major_axis) x 5 (minor_axis)\n",
      "Items axis: NLG to AMMO\n",
      "Major_axis axis: 2013-04-28 00:00:00+00:00 to 2018-05-02 00:00:00+00:00\n",
      "Minor_axis axis: low to volume\n"
     ]
    }
   ],
   "source": [
    "from cryptohist import CoinMarketCapFetcher\n",
    "from collections import OrderedDict\n",
    "import pandas as pd\n",
    "import datetime as dt\n",
    "import pytz\n",
    "\n",
    "fetcher = CoinMarketCapFetcher(start=dt.datetime(2013, 4, 28), end=dt.datetime.today())\n",
    "\n",
    "symbols = set(fetcher.get_symbols())\n",
    "data = OrderedDict()\n",
    "market_caps = OrderedDict()\n",
    "volumes = OrderedDict()\n",
    "for symbol in symbols:\n",
    "    data[symbol] = pd.read_csv(\"data/\" + symbol + \".csv\")\n",
    "    \n",
    "    data[symbol]['date'] = pd.to_datetime(data[symbol]['Date'])\n",
    "    data[symbol].set_index('date', inplace=True)\n",
    "    data[symbol].drop('Date', axis=1, inplace=True)\n",
    "    data[symbol].fillna(method=\"ffill\", inplace=True)\n",
    "    market_caps[symbol] = data[symbol][[\"Market Cap\"]].copy().fillna(0)\n",
    "    volumes[symbol] = data[symbol][[\"Volume\"]].copy().fillna(0)\n",
    "    data[symbol] = data[symbol][[\"Low\",\"High\",\"Open\",\"Close\",\"Volume\"]]\n",
    "\n",
    "\n",
    "panel = pd.Panel(data)\n",
    "panel.minor_axis = [\"low\",\"high\",\"open\",\"close\",\"volume\"]\n",
    "panel.major_axis = panel.major_axis.tz_localize(pytz.utc)\n",
    "print(panel)"
   ]
  },
  {
   "cell_type": "code",
   "execution_count": 83,
   "metadata": {},
   "outputs": [],
   "source": [
    "config = {\n",
    "        \"name\": \"index\",\n",
    "        \"top\": 20,\n",
    "        \"max_percent\": 0.1,\n",
    "}"
   ]
  },
  {
   "cell_type": "code",
   "execution_count": 84,
   "metadata": {},
   "outputs": [],
   "source": [
    "def coins_market_cap(market_caps, today):\n",
    "    coins = []\n",
    "    for s in symbols:\n",
    "        try:\n",
    "            coins.append({\"symbol\": s, \"value\": market_caps[s].loc[today][\"Market Cap\"]})\n",
    "        except KeyError:\n",
    "            pass\n",
    "    return coins\n",
    "\n",
    "def coins_mean_volume(data, days):\n",
    "    coins = []\n",
    "    for s in symbols:\n",
    "        try:\n",
    "            coins.append({\"symbol\": s, \"value\": data.history(symbol(s), 'volume', bar_count=days, frequency=\"1d\").mean()})\n",
    "        except ValueError:\n",
    "            pass\n",
    "    return coins"
   ]
  },
  {
   "cell_type": "code",
   "execution_count": 85,
   "metadata": {},
   "outputs": [],
   "source": [
    "from zipline.api import order, record, symbol, set_benchmark, set_commission, set_slippage, order_target_percent, get_open_orders, get_datetime, order_percent\n",
    "from index import calc_allocation, rebalance\n",
    "from zipline.finance import commission, slippage\n",
    "\n",
    "\n",
    "def initialize(context):\n",
    "    set_benchmark(symbol(\"BTC\"))\n",
    "    set_benchmark(symbol(\"ETH\"))\n",
    "    set_slippage(slippage.FixedSlippage(spread=0))\n",
    "    set_commission(commission.PerTrade(cost=1))\n",
    "    context.i = -1\n",
    "    context.rebalance_days = 14\n",
    "\n",
    "\n",
    "def handle_data(context, data):\n",
    "    context.i += 1\n",
    "    record(BTC=data.current(symbol('BTC'), fields='price'))\n",
    "    record(ETH=data.current(symbol('ETH'), fields='price'))\n",
    "    if context.i % context.rebalance_days != 0:\n",
    "        return\n",
    "    \n",
    "    today = str(get_datetime().date())\n",
    "    coins = coins_market_cap(market_caps, today)\n",
    "    allocation = calc_allocation(coins, config)\n",
    "    holdings = {e.symbol:p.amount for e, p in context.portfolio.positions.items()}\n",
    "    prices = {s:data.current(symbol(s), fields='price') for s in allocation.keys() | holdings.keys()}\n",
    "    value = context.portfolio.portfolio_value\n",
    "    transactions = rebalance(prices, holdings, allocation, value*0.9)\n",
    "    for s, amount in transactions.items():\n",
    "        order(symbol(s), int(amount))"
   ]
  },
  {
   "cell_type": "code",
   "execution_count": 90,
   "metadata": {
    "scrolled": true
   },
   "outputs": [],
   "source": [
    "import zipline\n",
    "from zipline.utils.calendars.exchange_calendar_24hr import TwentyFourHR\n",
    "perf = zipline.run_algorithm(start=dt.datetime(2018, 4, 1, 0, 0, 0, 0, pytz.utc),\n",
    "                      end=dt.datetime(2018, 5, 2, 0, 0, 0, 0, pytz.utc),\n",
    "                      initialize=initialize,\n",
    "                      trading_calendar=TwentyFourHR(),\n",
    "                      capital_base=10000000,\n",
    "                      handle_data=handle_data,\n",
    "                      data_frequency ='daily',\n",
    "                      data=panel)"
   ]
  },
  {
   "cell_type": "code",
   "execution_count": 91,
   "metadata": {},
   "outputs": [
    {
     "data": {
      "image/png": "[encoded data removed]",
      "text/plain": [
       "<Figure size 432x288 with 1 Axes>"
      ]
     },
     "metadata": {},
     "output_type": "display_data"
    }
   ],
   "source": [
    "import matplotlib.pyplot as plt\n",
    "from matplotlib import style\n",
    "\n",
    "style.use(\"ggplot\")\n",
    "\n",
    "perf.portfolio_value.pct_change().fillna(0).add(1).cumprod().sub(1).plot(label='portfolio')\n",
    "perf.BTC.pct_change().fillna(0).add(1).cumprod().sub(1).plot(label='BTC')\n",
    "perf.ETH.pct_change().fillna(0).add(1).cumprod().sub(1).plot(label='ETH')\n",
    "\n",
    "plt.legend(loc=2)  \n",
    "plt.show()"
   ]
  },
  {
   "cell_type": "code",
   "execution_count": null,
   "metadata": {},
   "outputs": [],
   "source": []
  }
 ],
 "metadata": {
  "kernelspec": {
   "display_name": "py35",
   "language": "python",
   "name": "py35"
  },
  "language_info": {
   "codemirror_mode": {
    "name": "ipython",
    "version": 3
   },
   "file_extension": ".py",
   "mimetype": "text/x-python",
   "name": "python",
   "nbconvert_exporter": "python",
   "pygments_lexer": "ipython3",
   "version": "3.5.0"
  }
 },
 "nbformat": 4,
 "nbformat_minor": 2
}
